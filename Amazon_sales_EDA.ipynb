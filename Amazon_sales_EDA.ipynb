{
  "metadata": {
    "kernelspec": {
      "language": "python",
      "display_name": "Python 3",
      "name": "python3"
    },
    "language_info": {
      "name": "python",
      "version": "3.10.13",
      "mimetype": "text/x-python",
      "codemirror_mode": {
        "name": "ipython",
        "version": 3
      },
      "pygments_lexer": "ipython3",
      "nbconvert_exporter": "python",
      "file_extension": ".py"
    },
    "kaggle": {
      "accelerator": "none",
      "dataSources": [
        {
          "sourceId": 4642886,
          "sourceType": "datasetVersion",
          "datasetId": 2699295
        }
      ],
      "dockerImageVersionId": 30684,
      "isInternetEnabled": true,
      "language": "python",
      "sourceType": "notebook",
      "isGpuEnabled": false
    },
    "colab": {
      "name": "Amazon_sales_EDA",
      "provenance": [],
      "include_colab_link": true
    }
  },
  "nbformat_minor": 0,
  "nbformat": 4,
  "cells": [
    {
      "cell_type": "markdown",
      "metadata": {
        "id": "view-in-github",
        "colab_type": "text"
      },
      "source": [
        "<a href=\"https://colab.research.google.com/github/trehansalil/amazon_sales_forecasting/blob/main/Amazon_sales_EDA.ipynb\" target=\"_parent\"><img src=\"https://colab.research.google.com/assets/colab-badge.svg\" alt=\"Open In Colab\"/></a>"
      ]
    },
    {
      "source": [
        "\n",
        "# IMPORTANT: RUN THIS CELL IN ORDER TO IMPORT YOUR KAGGLE DATA SOURCES\n",
        "# TO THE CORRECT LOCATION (/kaggle/input) IN YOUR NOTEBOOK,\n",
        "# THEN FEEL FREE TO DELETE THIS CELL.\n",
        "# NOTE: THIS NOTEBOOK ENVIRONMENT DIFFERS FROM KAGGLE'S PYTHON\n",
        "# ENVIRONMENT SO THERE MAY BE MISSING LIBRARIES USED BY YOUR\n",
        "# NOTEBOOK.\n",
        "\n",
        "import os\n",
        "import sys\n",
        "from tempfile import NamedTemporaryFile\n",
        "from urllib.request import urlopen\n",
        "from urllib.parse import unquote, urlparse\n",
        "from urllib.error import HTTPError\n",
        "from zipfile import ZipFile\n",
        "import tarfile\n",
        "import shutil\n",
        "\n",
        "CHUNK_SIZE = 40960\n",
        "DATA_SOURCE_MAPPING = 'unlock-profits-with-e-commerce-sales-data:https%3A%2F%2Fstorage.googleapis.com%2Fkaggle-data-sets%2F2699295%2F4642886%2Fbundle%2Farchive.zip%3FX-Goog-Algorithm%3DGOOG4-RSA-SHA256%26X-Goog-Credential%3Dgcp-kaggle-com%2540kaggle-161607.iam.gserviceaccount.com%252F20240417%252Fauto%252Fstorage%252Fgoog4_request%26X-Goog-Date%3D20240417T062348Z%26X-Goog-Expires%3D259200%26X-Goog-SignedHeaders%3Dhost%26X-Goog-Signature%3D30bde75265db234df1e4cb15dbb2c252ea8e5e350c094011aec3007975cb22dada7ebb0f98bf51227bf960c2afca70944bf8229a7adbcd8095a924485d25d8b9bee118a11935a6da2127eda2ffed265dc87fda65023d3bb07e37b0526abb56fb0a4608bf2e59c52721bf1c69e36d2357d1d1736517747bf0e9bf1d07fe244e8466e4fe989fc86a091ec92b31950c95aa222aed29fee5f015b62ed796c3ebbe404115cf4b5fc8c9e1529ba3d6bbfa764a46a918aced4d1943d72ee9b3c965267b183bf3942ffdea41a80ec27057c73518a5657f0332c911bc4f679272fb172eec44e8eeda6d631b4908232dadb2a9a3ce511c2abb559ad85317913ea2bcc8c7be'\n",
        "\n",
        "KAGGLE_INPUT_PATH='/kaggle/input'\n",
        "KAGGLE_WORKING_PATH='/kaggle/working'\n",
        "KAGGLE_SYMLINK='kaggle'\n",
        "\n",
        "!umount /kaggle/input/ 2> /dev/null\n",
        "shutil.rmtree('/kaggle/input', ignore_errors=True)\n",
        "os.makedirs(KAGGLE_INPUT_PATH, 0o777, exist_ok=True)\n",
        "os.makedirs(KAGGLE_WORKING_PATH, 0o777, exist_ok=True)\n",
        "\n",
        "try:\n",
        "  os.symlink(KAGGLE_INPUT_PATH, os.path.join(\"..\", 'input'), target_is_directory=True)\n",
        "except FileExistsError:\n",
        "  pass\n",
        "try:\n",
        "  os.symlink(KAGGLE_WORKING_PATH, os.path.join(\"..\", 'working'), target_is_directory=True)\n",
        "except FileExistsError:\n",
        "  pass\n",
        "\n",
        "for data_source_mapping in DATA_SOURCE_MAPPING.split(','):\n",
        "    directory, download_url_encoded = data_source_mapping.split(':')\n",
        "    download_url = unquote(download_url_encoded)\n",
        "    filename = urlparse(download_url).path\n",
        "    destination_path = os.path.join(KAGGLE_INPUT_PATH, directory)\n",
        "    try:\n",
        "        with urlopen(download_url) as fileres, NamedTemporaryFile() as tfile:\n",
        "            total_length = fileres.headers['content-length']\n",
        "            print(f'Downloading {directory}, {total_length} bytes compressed')\n",
        "            dl = 0\n",
        "            data = fileres.read(CHUNK_SIZE)\n",
        "            while len(data) > 0:\n",
        "                dl += len(data)\n",
        "                tfile.write(data)\n",
        "                done = int(50 * dl / int(total_length))\n",
        "                sys.stdout.write(f\"\\r[{'=' * done}{' ' * (50-done)}] {dl} bytes downloaded\")\n",
        "                sys.stdout.flush()\n",
        "                data = fileres.read(CHUNK_SIZE)\n",
        "            if filename.endswith('.zip'):\n",
        "              with ZipFile(tfile) as zfile:\n",
        "                zfile.extractall(destination_path)\n",
        "            else:\n",
        "              with tarfile.open(tfile.name) as tarfile:\n",
        "                tarfile.extractall(destination_path)\n",
        "            print(f'\\nDownloaded and uncompressed: {directory}')\n",
        "    except HTTPError as e:\n",
        "        print(f'Failed to load (likely expired) {download_url} to path {destination_path}')\n",
        "        continue\n",
        "    except OSError as e:\n",
        "        print(f'Failed to load {download_url} to path {destination_path}')\n",
        "        continue\n",
        "\n",
        "print('Data source import complete.')\n"
      ],
      "metadata": {
        "id": "3rWYdAsYuf5O"
      },
      "cell_type": "code",
      "outputs": [],
      "execution_count": null
    },
    {
      "cell_type": "code",
      "source": [
        "# This Python 3 environment comes with many helpful analytics libraries installed\n",
        "# It is defined by the kaggle/python Docker image: https://github.com/kaggle/docker-python\n",
        "# For example, here's several helpful packages to load\n",
        "\n",
        "import numpy as np # linear algebra\n",
        "import pandas as pd # data processing, CSV file I/O (e.g. pd.read_csv)\n",
        "\n",
        "# Input data files are available in the read-only \"../input/\" directory\n",
        "# For example, running this (by clicking run or pressing Shift+Enter) will list all files under the input directory\n",
        "\n",
        "import os\n",
        "for dirname, _, filenames in os.walk('/kaggle/input'):\n",
        "    for filename in filenames:\n",
        "        print(os.path.join(dirname, filename))\n",
        "\n",
        "# You can write up to 20GB to the current directory (/kaggle/working/) that gets preserved as output when you create a version using \"Save & Run All\"\n",
        "# You can also write temporary files to /kaggle/temp/, but they won't be saved outside of the current session"
      ],
      "metadata": {
        "_uuid": "8f2839f25d086af736a60e9eeb907d3b93b6e0e5",
        "_cell_guid": "b1076dfc-b9ad-4769-8c92-a6c4dae69d19",
        "execution": {
          "iopub.status.busy": "2024-04-17T05:12:11.680757Z",
          "iopub.execute_input": "2024-04-17T05:12:11.681308Z",
          "iopub.status.idle": "2024-04-17T05:12:11.692413Z",
          "shell.execute_reply.started": "2024-04-17T05:12:11.681262Z",
          "shell.execute_reply": "2024-04-17T05:12:11.691153Z"
        },
        "trusted": true,
        "id": "3cUPJzLDuf5Q"
      },
      "execution_count": null,
      "outputs": []
    },
    {
      "cell_type": "code",
      "source": [
        "import matplotlib.pyplot as plt\n",
        "import seaborn as sns\n",
        "import random\n",
        "import scipy.stats as stats\n",
        "import numpy as np\n",
        "import pandas as pd\n",
        "random.seed(42)\n",
        "alpha = 0.05\n",
        "from sklearn.preprocessing import PowerTransformer, StandardScaler, MinMaxScaler, RobustScaler\n",
        "from sklearn.model_selection import train_test_split, KFold\n",
        "from sklearn.tree import DecisionTreeClassifier\n",
        "from sklearn.naive_bayes import GaussianNB\n",
        "from sklearn.ensemble import RandomForestClassifier, AdaBoostClassifier,BaggingClassifier\n",
        "from sklearn.metrics import confusion_matrix, accuracy_score\n",
        "from statsmodels.stats.multicomp import pairwise_tukeyhsd\n",
        "\n",
        "import catboost\n",
        "import xgboost\n",
        "from xgboost import XGBClassifier\n",
        "from catboost import CatBoostClassifier"
      ],
      "metadata": {
        "execution": {
          "iopub.status.busy": "2024-04-17T05:12:11.694473Z",
          "iopub.execute_input": "2024-04-17T05:12:11.695598Z",
          "iopub.status.idle": "2024-04-17T05:12:11.704415Z",
          "shell.execute_reply.started": "2024-04-17T05:12:11.695558Z",
          "shell.execute_reply": "2024-04-17T05:12:11.703628Z"
        },
        "trusted": true,
        "id": "nf-3ICk0uf5Q"
      },
      "execution_count": null,
      "outputs": []
    },
    {
      "cell_type": "markdown",
      "source": [
        "## Data Dictionary\n",
        "This dataset provides detailed insights into Amazon sales data, including SKU Code, Design Number, Stock, Category, Size and Color, to help optimize product profitability\n",
        "\n",
        "- Category: Type of product. (String)\n",
        "- Size: Size of the product. (String)\n",
        "- Date: Date of the sale. (Date)\n",
        "- Status: Status of the sale. (String)\n",
        "- Fulfilment: Method of fulfilment. (String)\n",
        "- Style: Style of the product. (String)\n",
        "- SKU: Stock Keeping Unit. (String)\n",
        "- ASIN: Amazon Standard Identification Number. (String)\n",
        "- Courier Status: Status of the courier. (String)\n",
        "- Qty: Quantity of the product. (Integer)\n",
        "- Amount: Amount of the sale. (Float)\n",
        "- B2B: Business to business sale. (Boolean)\n",
        "- Currency: The currency used for the sale. (String)"
      ],
      "metadata": {
        "id": "XYd-fVkPuf5Q"
      }
    },
    {
      "cell_type": "code",
      "source": [
        "amazon_df = pd.read_csv('/kaggle/input/unlock-profits-with-e-commerce-sales-data/Amazon Sale Report.csv', low_memory=False)\n",
        "amazon_df = amazon_df.drop(columns = ['index', 'Unnamed: 22']).reset_index(drop=True)\n",
        "\n",
        "# Map sizes to aggregated sizes\n",
        "size_map = {'S': 'S',\n",
        " '3XL': '3XL',\n",
        " 'XL': 'XL',\n",
        " 'L': 'L',\n",
        " 'XXL': '2XL',\n",
        " 'XS': 'XS',\n",
        " '6XL': '6XL',\n",
        " 'M': 'M',\n",
        " '4XL': '4XL',\n",
        " '5XL': '5XL',\n",
        " 'Free': 'FREE'}\n",
        "\n",
        "# size_map['Free'] = 'FREE'\n",
        "\n",
        "amazon_df[\"ship_region\"] = amazon_df[\"ship-state\"].str.upper().replace({\n",
        "        \"MAHARASHTRA\":\"westindia\",\"KARNATAKA\":\"southindia\",\n",
        "        'PUDUCHERRY':\"southindia\",'TELANGANA':\"southindia\",\n",
        "        'ANDHRA PRADESH':\"southindia\", 'HARYANA':\"northindia\",\n",
        "        'JHARKHAND':\"eastindia\", 'CHHATTISGARH':\"eastindia\",\n",
        "        'ASSAM':\"northeastindia\",'ODISHA':\"eastindia\", \"ORISSA\": \"eastindia\",\n",
        "        'UTTAR PRADESH':\"northindia\", 'GUJARAT':\"westindia\",\n",
        "        'TAMIL NADU':\"southindia\", 'UTTARAKHAND':\"northindia\",\n",
        "        'WEST BENGAL':\"eastindia\", 'RAJASTHAN':\"westindia\", 'RAJSHTHAN':\"westindia\", 'RJ':\"westindia\", 'RAJSTHAN':\"westindia\",\n",
        "        'NEW DELHI':\"centralindia\",'MADHYA PRADESH':\"centralindia\", \"NL\": 'northeastindia', 'AR': 'northeastindia',\n",
        "        'KERALA':\"southindia\", 'JAMMU & KASHMIR':\"northindia\",\n",
        "        'BIHAR':\"eastindia\",'MEGHALAYA':\"northeastindia\",\n",
        "        'PUNJAB':\"northindia\", 'PB': 'northindia', 'GOA':\"southindia\", 'PUNJAB/MOHALI/ZIRAKPUR': \"northindia\",\n",
        "        'TRIPURA':\"northeastindia\", 'CHANDIGARH':\"northindia\",\n",
        "        'HIMACHAL PRADESH':\"northindia\",'SIKKIM':\"northeastindia\",\n",
        "        \"ANDAMAN & NICOBAR \":\"eastindia\", 'MANIPUR':\"northeastindia\",\n",
        "        'MIZORAM':\"northeastindia\",'NAGALAND':\"northeastindia\",\n",
        "        'ARUNACHAL PRADESH':\"northeastindia\", 'LADAKH':\"northindia\", \"PONDICHERRY\": \"westindia\",\n",
        "        'DADRA AND NAGAR':\"westindia\",'LAKSHADWEEP':\"southindia\", 'DELHI': 'northindia'\n",
        "    })\n",
        "\n",
        "values = {\"Size\": 'FREE'}\n",
        "amazon_df.fillna(value=values, inplace=True)\n",
        "\n",
        "amazon_df['Size'] = amazon_df['Size'].map(size_map)\n",
        "amazon_df['AggSize'] = amazon_df['Size'].apply(lambda x: '>2XL' if ('XL'in x) & (x not in ['XL', '2XL']) else x)\n",
        "\n",
        "amazon_df['Date'] = pd.to_datetime(amazon_df['Date'], dayfirst=True, format='mixed')\n",
        "\n",
        "amazon_df['B2B'] = amazon_df['B2B'].astype(int)\n"
      ],
      "metadata": {
        "execution": {
          "iopub.status.busy": "2024-04-17T05:12:11.705537Z",
          "iopub.execute_input": "2024-04-17T05:12:11.705878Z",
          "iopub.status.idle": "2024-04-17T05:12:13.601123Z",
          "shell.execute_reply.started": "2024-04-17T05:12:11.705852Z",
          "shell.execute_reply": "2024-04-17T05:12:13.599346Z"
        },
        "trusted": true,
        "id": "Fnmy13fBuf5R"
      },
      "execution_count": null,
      "outputs": []
    },
    {
      "cell_type": "code",
      "source": [
        "amazon_df[\"ship_region\"].unique()"
      ],
      "metadata": {
        "execution": {
          "iopub.status.busy": "2024-04-17T05:12:13.604681Z",
          "iopub.execute_input": "2024-04-17T05:12:13.605196Z",
          "iopub.status.idle": "2024-04-17T05:12:13.619818Z",
          "shell.execute_reply.started": "2024-04-17T05:12:13.605157Z",
          "shell.execute_reply": "2024-04-17T05:12:13.618544Z"
        },
        "trusted": true,
        "id": "ZRj2UqrMuf5S"
      },
      "execution_count": null,
      "outputs": []
    },
    {
      "cell_type": "code",
      "source": [
        "amazon_df['Size'].unique()"
      ],
      "metadata": {
        "execution": {
          "iopub.status.busy": "2024-04-17T05:12:13.621106Z",
          "iopub.execute_input": "2024-04-17T05:12:13.621425Z",
          "iopub.status.idle": "2024-04-17T05:12:13.642344Z",
          "shell.execute_reply.started": "2024-04-17T05:12:13.621398Z",
          "shell.execute_reply": "2024-04-17T05:12:13.64088Z"
        },
        "trusted": true,
        "id": "MJs9OZUKuf5S"
      },
      "execution_count": null,
      "outputs": []
    },
    {
      "cell_type": "code",
      "source": [
        "amazon_df['Size'].value_counts(1)"
      ],
      "metadata": {
        "execution": {
          "iopub.status.busy": "2024-04-17T05:12:13.644518Z",
          "iopub.execute_input": "2024-04-17T05:12:13.64494Z",
          "iopub.status.idle": "2024-04-17T05:12:13.674845Z",
          "shell.execute_reply.started": "2024-04-17T05:12:13.644903Z",
          "shell.execute_reply": "2024-04-17T05:12:13.673576Z"
        },
        "trusted": true,
        "id": "5d5pgBTQuf5S"
      },
      "execution_count": null,
      "outputs": []
    },
    {
      "cell_type": "code",
      "source": [
        "amazon_df['AggSize'].value_counts(1)"
      ],
      "metadata": {
        "execution": {
          "iopub.status.busy": "2024-04-17T05:12:13.677657Z",
          "iopub.execute_input": "2024-04-17T05:12:13.67805Z",
          "iopub.status.idle": "2024-04-17T05:12:13.708137Z",
          "shell.execute_reply.started": "2024-04-17T05:12:13.678017Z",
          "shell.execute_reply": "2024-04-17T05:12:13.706918Z"
        },
        "trusted": true,
        "id": "WoEIPWLpuf5S"
      },
      "execution_count": null,
      "outputs": []
    },
    {
      "cell_type": "code",
      "source": [
        "round(amazon_df['Size'].value_counts(1)*100, 2)"
      ],
      "metadata": {
        "execution": {
          "iopub.status.busy": "2024-04-17T05:12:13.709583Z",
          "iopub.execute_input": "2024-04-17T05:12:13.710549Z",
          "iopub.status.idle": "2024-04-17T05:12:13.739463Z",
          "shell.execute_reply.started": "2024-04-17T05:12:13.710517Z",
          "shell.execute_reply": "2024-04-17T05:12:13.73813Z"
        },
        "trusted": true,
        "id": "RhKOs_Pquf5S"
      },
      "execution_count": null,
      "outputs": []
    },
    {
      "cell_type": "code",
      "source": [
        "amazon_df['Size'].isnull().sum()"
      ],
      "metadata": {
        "execution": {
          "iopub.status.busy": "2024-04-17T05:12:13.740841Z",
          "iopub.execute_input": "2024-04-17T05:12:13.741299Z",
          "iopub.status.idle": "2024-04-17T05:12:13.765855Z",
          "shell.execute_reply.started": "2024-04-17T05:12:13.741254Z",
          "shell.execute_reply": "2024-04-17T05:12:13.76443Z"
        },
        "trusted": true,
        "id": "JLnp_xRUuf5T"
      },
      "execution_count": null,
      "outputs": []
    },
    {
      "cell_type": "code",
      "source": [
        "amazon_df.columns"
      ],
      "metadata": {
        "execution": {
          "iopub.status.busy": "2024-04-17T05:12:13.770592Z",
          "iopub.execute_input": "2024-04-17T05:12:13.771126Z",
          "iopub.status.idle": "2024-04-17T05:12:13.779257Z",
          "shell.execute_reply.started": "2024-04-17T05:12:13.771095Z",
          "shell.execute_reply": "2024-04-17T05:12:13.778031Z"
        },
        "trusted": true,
        "id": "dwhi-5sPuf5T"
      },
      "execution_count": null,
      "outputs": []
    },
    {
      "cell_type": "code",
      "source": [
        "amazon_df.loc[amazon_df['Size'].isin(['FREE']), 'SKU'].apply(lambda x: x.split(\"-\")[-1]).unique()"
      ],
      "metadata": {
        "execution": {
          "iopub.status.busy": "2024-04-17T05:12:13.781349Z",
          "iopub.execute_input": "2024-04-17T05:12:13.782095Z",
          "iopub.status.idle": "2024-04-17T05:12:13.797642Z",
          "shell.execute_reply.started": "2024-04-17T05:12:13.782055Z",
          "shell.execute_reply": "2024-04-17T05:12:13.796376Z"
        },
        "trusted": true,
        "id": "DSQvOUFIuf5T"
      },
      "execution_count": null,
      "outputs": []
    },
    {
      "cell_type": "code",
      "source": [
        "amazon_df.groupby('Status')['Courier Status'].unique()"
      ],
      "metadata": {
        "execution": {
          "iopub.status.busy": "2024-04-17T05:12:13.799323Z",
          "iopub.execute_input": "2024-04-17T05:12:13.799719Z",
          "iopub.status.idle": "2024-04-17T05:12:13.841297Z",
          "shell.execute_reply.started": "2024-04-17T05:12:13.799687Z",
          "shell.execute_reply": "2024-04-17T05:12:13.840065Z"
        },
        "trusted": true,
        "id": "h-MozxZJuf5T"
      },
      "execution_count": null,
      "outputs": []
    },
    {
      "cell_type": "code",
      "source": [
        "pd.set_option(\"display.max_columns\", 101)\n",
        "amazon_df.head()"
      ],
      "metadata": {
        "execution": {
          "iopub.status.busy": "2024-04-17T05:12:13.843182Z",
          "iopub.execute_input": "2024-04-17T05:12:13.844104Z",
          "iopub.status.idle": "2024-04-17T05:12:13.872489Z",
          "shell.execute_reply.started": "2024-04-17T05:12:13.844063Z",
          "shell.execute_reply": "2024-04-17T05:12:13.871371Z"
        },
        "trusted": true,
        "id": "j4SRoY5muf5T"
      },
      "execution_count": null,
      "outputs": []
    },
    {
      "cell_type": "code",
      "source": [
        "amazon_df.info()"
      ],
      "metadata": {
        "execution": {
          "iopub.status.busy": "2024-04-17T05:12:13.874121Z",
          "iopub.execute_input": "2024-04-17T05:12:13.874414Z",
          "iopub.status.idle": "2024-04-17T05:12:14.137143Z",
          "shell.execute_reply.started": "2024-04-17T05:12:13.87439Z",
          "shell.execute_reply": "2024-04-17T05:12:14.135794Z"
        },
        "trusted": true,
        "id": "-Dwid2Vjuf5T"
      },
      "execution_count": null,
      "outputs": []
    },
    {
      "cell_type": "code",
      "source": [
        "amazon_df.dtypes"
      ],
      "metadata": {
        "execution": {
          "iopub.status.busy": "2024-04-17T05:20:13.947426Z",
          "iopub.execute_input": "2024-04-17T05:20:13.948404Z",
          "iopub.status.idle": "2024-04-17T05:20:13.957395Z",
          "shell.execute_reply.started": "2024-04-17T05:20:13.948368Z",
          "shell.execute_reply": "2024-04-17T05:20:13.956602Z"
        },
        "trusted": true,
        "id": "uV1rvYLmuf5T"
      },
      "execution_count": null,
      "outputs": []
    },
    {
      "cell_type": "code",
      "source": [
        "amazon_df.nunique().sort_values().to_frame(name='Count of unique values')"
      ],
      "metadata": {
        "execution": {
          "iopub.status.busy": "2024-04-17T05:12:14.138761Z",
          "iopub.execute_input": "2024-04-17T05:12:14.139083Z",
          "iopub.status.idle": "2024-04-17T05:12:14.372399Z",
          "shell.execute_reply.started": "2024-04-17T05:12:14.139055Z",
          "shell.execute_reply": "2024-04-17T05:12:14.371158Z"
        },
        "trusted": true,
        "id": "cuU5KEuluf5U"
      },
      "execution_count": null,
      "outputs": []
    },
    {
      "cell_type": "code",
      "source": [
        "amazon_df.apply(pd.unique).to_frame(name='Unique Values')"
      ],
      "metadata": {
        "execution": {
          "iopub.status.busy": "2024-04-17T05:12:14.373767Z",
          "iopub.execute_input": "2024-04-17T05:12:14.374087Z",
          "iopub.status.idle": "2024-04-17T05:12:14.598806Z",
          "shell.execute_reply.started": "2024-04-17T05:12:14.374062Z",
          "shell.execute_reply": "2024-04-17T05:12:14.597691Z"
        },
        "trusted": true,
        "id": "7H2VlkN6uf5U"
      },
      "execution_count": null,
      "outputs": []
    },
    {
      "cell_type": "code",
      "source": [
        "amazon_df.describe().T"
      ],
      "metadata": {
        "execution": {
          "iopub.status.busy": "2024-04-17T05:12:14.600326Z",
          "iopub.execute_input": "2024-04-17T05:12:14.60087Z",
          "iopub.status.idle": "2024-04-17T05:12:14.653273Z",
          "shell.execute_reply.started": "2024-04-17T05:12:14.600833Z",
          "shell.execute_reply": "2024-04-17T05:12:14.651972Z"
        },
        "trusted": true,
        "id": "g5s9G_Ohuf5U"
      },
      "execution_count": null,
      "outputs": []
    },
    {
      "cell_type": "code",
      "source": [
        "amazon_df.describe(include='O')"
      ],
      "metadata": {
        "execution": {
          "iopub.status.busy": "2024-04-17T05:12:14.654936Z",
          "iopub.execute_input": "2024-04-17T05:12:14.655279Z",
          "iopub.status.idle": "2024-04-17T05:12:15.579549Z",
          "shell.execute_reply.started": "2024-04-17T05:12:14.655248Z",
          "shell.execute_reply": "2024-04-17T05:12:15.578097Z"
        },
        "trusted": true,
        "id": "PNMMBE_uuf5U"
      },
      "execution_count": null,
      "outputs": []
    },
    {
      "cell_type": "code",
      "source": [
        "sns.heatmap(amazon_df.isnull())\n",
        "plt.show()\n",
        "\n",
        "# Null values are there in Courier Status, Currency, Amount, promotion-ids, fulfilled-by"
      ],
      "metadata": {
        "execution": {
          "iopub.status.busy": "2024-04-17T05:12:15.580969Z",
          "iopub.execute_input": "2024-04-17T05:12:15.581294Z",
          "iopub.status.idle": "2024-04-17T05:12:19.679697Z",
          "shell.execute_reply.started": "2024-04-17T05:12:15.581266Z",
          "shell.execute_reply": "2024-04-17T05:12:19.678555Z"
        },
        "trusted": true,
        "id": "-VLHfuo7uf5U"
      },
      "execution_count": null,
      "outputs": []
    },
    {
      "cell_type": "code",
      "source": [
        "def null_checker():\n",
        "    return round(amazon_df.isnull().sum()[amazon_df.isnull().sum()>0]* 100/amazon_df.shape[0], 2)\n",
        "null_checker()"
      ],
      "metadata": {
        "execution": {
          "iopub.status.busy": "2024-04-17T05:12:19.681294Z",
          "iopub.execute_input": "2024-04-17T05:12:19.68231Z",
          "iopub.status.idle": "2024-04-17T05:12:20.217763Z",
          "shell.execute_reply.started": "2024-04-17T05:12:19.682271Z",
          "shell.execute_reply": "2024-04-17T05:12:20.216692Z"
        },
        "trusted": true,
        "id": "tQPg9Jztuf5U"
      },
      "execution_count": null,
      "outputs": []
    },
    {
      "cell_type": "markdown",
      "source": [
        "### Drop Duplicates"
      ],
      "metadata": {
        "id": "jXV0G8Cduf5U"
      }
    },
    {
      "cell_type": "code",
      "source": [
        "amazon_df[amazon_df.duplicated(['Order ID','ASIN'], keep=False)]"
      ],
      "metadata": {
        "execution": {
          "iopub.status.busy": "2024-04-17T05:12:20.219208Z",
          "iopub.execute_input": "2024-04-17T05:12:20.22258Z",
          "iopub.status.idle": "2024-04-17T05:12:20.309173Z",
          "shell.execute_reply.started": "2024-04-17T05:12:20.222549Z",
          "shell.execute_reply": "2024-04-17T05:12:20.308157Z"
        },
        "trusted": true,
        "id": "S5zjaFwEuf5U"
      },
      "execution_count": null,
      "outputs": []
    },
    {
      "cell_type": "code",
      "source": [
        "len(amazon_df)-len(amazon_df.drop_duplicates(['Order ID','ASIN']))"
      ],
      "metadata": {
        "execution": {
          "iopub.status.busy": "2024-04-17T05:12:20.310417Z",
          "iopub.execute_input": "2024-04-17T05:12:20.312108Z",
          "iopub.status.idle": "2024-04-17T05:12:20.420573Z",
          "shell.execute_reply.started": "2024-04-17T05:12:20.312079Z",
          "shell.execute_reply": "2024-04-17T05:12:20.419549Z"
        },
        "trusted": true,
        "id": "-dBkwxGduf5U"
      },
      "execution_count": null,
      "outputs": []
    },
    {
      "cell_type": "code",
      "source": [
        "amazon_df.drop_duplicates(['Order ID','ASIN'],inplace = True,ignore_index=True)"
      ],
      "metadata": {
        "execution": {
          "iopub.status.busy": "2024-04-17T05:12:20.421979Z",
          "iopub.execute_input": "2024-04-17T05:12:20.422315Z",
          "iopub.status.idle": "2024-04-17T05:12:20.509806Z",
          "shell.execute_reply.started": "2024-04-17T05:12:20.422287Z",
          "shell.execute_reply": "2024-04-17T05:12:20.508708Z"
        },
        "trusted": true,
        "id": "pXnTjjdwuf5V"
      },
      "execution_count": null,
      "outputs": []
    },
    {
      "cell_type": "markdown",
      "source": [
        "### Filling NaN Values"
      ],
      "metadata": {
        "id": "ZLFU8cKluf5V"
      }
    },
    {
      "cell_type": "code",
      "source": [
        "amazon_df['currency'].unique()"
      ],
      "metadata": {
        "execution": {
          "iopub.status.busy": "2024-04-17T05:12:20.511209Z",
          "iopub.execute_input": "2024-04-17T05:12:20.512368Z",
          "iopub.status.idle": "2024-04-17T05:12:20.526066Z",
          "shell.execute_reply.started": "2024-04-17T05:12:20.512334Z",
          "shell.execute_reply": "2024-04-17T05:12:20.524787Z"
        },
        "trusted": true,
        "id": "wCJlOxvauf5V"
      },
      "execution_count": null,
      "outputs": []
    },
    {
      "cell_type": "code",
      "source": [
        "\n",
        "amazon_df['ship-country'].unique()"
      ],
      "metadata": {
        "execution": {
          "iopub.status.busy": "2024-04-17T05:12:20.52756Z",
          "iopub.execute_input": "2024-04-17T05:12:20.527944Z",
          "iopub.status.idle": "2024-04-17T05:12:20.542145Z",
          "shell.execute_reply.started": "2024-04-17T05:12:20.527914Z",
          "shell.execute_reply": "2024-04-17T05:12:20.54087Z"
        },
        "trusted": true,
        "id": "aEVllPMMuf5V"
      },
      "execution_count": null,
      "outputs": []
    },
    {
      "cell_type": "code",
      "source": [
        "amazon_df.columns"
      ],
      "metadata": {
        "execution": {
          "iopub.status.busy": "2024-04-17T05:12:20.543478Z",
          "iopub.execute_input": "2024-04-17T05:12:20.543879Z",
          "iopub.status.idle": "2024-04-17T05:12:20.554645Z",
          "shell.execute_reply.started": "2024-04-17T05:12:20.543842Z",
          "shell.execute_reply": "2024-04-17T05:12:20.553666Z"
        },
        "trusted": true,
        "id": "Ke-8ss-5uf5V"
      },
      "execution_count": null,
      "outputs": []
    },
    {
      "cell_type": "code",
      "source": [
        "amazon_df.groupby('currency')['ship-country'].unique()"
      ],
      "metadata": {
        "execution": {
          "iopub.status.busy": "2024-04-17T05:12:20.556073Z",
          "iopub.execute_input": "2024-04-17T05:12:20.557045Z",
          "iopub.status.idle": "2024-04-17T05:12:20.600291Z",
          "shell.execute_reply.started": "2024-04-17T05:12:20.557016Z",
          "shell.execute_reply": "2024-04-17T05:12:20.599537Z"
        },
        "trusted": true,
        "id": "OmR5Bv8Yuf5V"
      },
      "execution_count": null,
      "outputs": []
    },
    {
      "cell_type": "code",
      "source": [
        "amazon_df.drop(columns = ['currency', 'ship-country'], inplace=True)\n",
        "\n",
        "# It is safe to assume that these are local sales from Amazon. Hence, there is no reason to consider these columns as the values aren't going to change much"
      ],
      "metadata": {
        "execution": {
          "iopub.status.busy": "2024-04-17T05:12:20.607427Z",
          "iopub.execute_input": "2024-04-17T05:12:20.608302Z",
          "iopub.status.idle": "2024-04-17T05:12:20.646972Z",
          "shell.execute_reply.started": "2024-04-17T05:12:20.608273Z",
          "shell.execute_reply": "2024-04-17T05:12:20.645891Z"
        },
        "trusted": true,
        "id": "pgn7D7iquf5W"
      },
      "execution_count": null,
      "outputs": []
    },
    {
      "cell_type": "code",
      "source": [
        "amazon_df.columns"
      ],
      "metadata": {
        "execution": {
          "iopub.status.busy": "2024-04-17T05:12:20.648223Z",
          "iopub.execute_input": "2024-04-17T05:12:20.648531Z",
          "iopub.status.idle": "2024-04-17T05:12:20.657653Z",
          "shell.execute_reply.started": "2024-04-17T05:12:20.648503Z",
          "shell.execute_reply": "2024-04-17T05:12:20.65612Z"
        },
        "trusted": true,
        "id": "xHXfcNf1uf5W"
      },
      "execution_count": null,
      "outputs": []
    },
    {
      "cell_type": "code",
      "source": [
        "\n",
        "\n",
        "amazon_df.groupby('Fulfilment')['fulfilled-by'].unique()\n",
        "\n",
        "# All Amazon Fulfillments are not specified in this data set. Lets assume Amazon's Shipment was a different category of Fulfillment - by.\n",
        "\n",
        "# Its safe to drop fullfilment-by as there is no separate information brought to the table through fulfilled-by"
      ],
      "metadata": {
        "execution": {
          "iopub.status.busy": "2024-04-17T05:12:20.659047Z",
          "iopub.execute_input": "2024-04-17T05:12:20.659333Z",
          "iopub.status.idle": "2024-04-17T05:12:20.69805Z",
          "shell.execute_reply.started": "2024-04-17T05:12:20.659309Z",
          "shell.execute_reply": "2024-04-17T05:12:20.696798Z"
        },
        "trusted": true,
        "id": "h_wgvjMluf5W"
      },
      "execution_count": null,
      "outputs": []
    },
    {
      "cell_type": "code",
      "source": [
        "amazon_df.drop(columns=['fulfilled-by'], inplace=True)"
      ],
      "metadata": {
        "execution": {
          "iopub.status.busy": "2024-04-17T05:12:20.699787Z",
          "iopub.execute_input": "2024-04-17T05:12:20.700201Z",
          "iopub.status.idle": "2024-04-17T05:12:20.743231Z",
          "shell.execute_reply.started": "2024-04-17T05:12:20.70017Z",
          "shell.execute_reply": "2024-04-17T05:12:20.742051Z"
        },
        "trusted": true,
        "id": "AfKgiOT_uf5W"
      },
      "execution_count": null,
      "outputs": []
    },
    {
      "cell_type": "code",
      "source": [
        "amazon_df['Sales Channel '].unique()"
      ],
      "metadata": {
        "execution": {
          "iopub.status.busy": "2024-04-17T05:12:20.744994Z",
          "iopub.execute_input": "2024-04-17T05:12:20.74567Z",
          "iopub.status.idle": "2024-04-17T05:12:20.764271Z",
          "shell.execute_reply.started": "2024-04-17T05:12:20.745587Z",
          "shell.execute_reply": "2024-04-17T05:12:20.763091Z"
        },
        "trusted": true,
        "id": "t-rSFQEquf5W"
      },
      "execution_count": null,
      "outputs": []
    },
    {
      "cell_type": "code",
      "source": [
        "amazon_df[amazon_df['Amount'].isnull()]['Status'].value_counts(normalize=True).apply(lambda x: format(x, '.2%'))"
      ],
      "metadata": {
        "execution": {
          "iopub.status.busy": "2024-04-17T05:12:20.765872Z",
          "iopub.execute_input": "2024-04-17T05:12:20.766312Z",
          "iopub.status.idle": "2024-04-17T05:12:20.789153Z",
          "shell.execute_reply.started": "2024-04-17T05:12:20.766275Z",
          "shell.execute_reply": "2024-04-17T05:12:20.788082Z"
        },
        "trusted": true,
        "id": "JOEgXzljuf5W"
      },
      "execution_count": null,
      "outputs": []
    },
    {
      "cell_type": "code",
      "source": [
        "values = {'Amount': 0}\n",
        "amazon_df.fillna(values,inplace=True)"
      ],
      "metadata": {
        "execution": {
          "iopub.status.busy": "2024-04-17T05:12:20.790638Z",
          "iopub.execute_input": "2024-04-17T05:12:20.790948Z",
          "iopub.status.idle": "2024-04-17T05:12:20.797006Z",
          "shell.execute_reply.started": "2024-04-17T05:12:20.790921Z",
          "shell.execute_reply": "2024-04-17T05:12:20.795977Z"
        },
        "trusted": true,
        "id": "oWNO9kvhuf5W"
      },
      "execution_count": null,
      "outputs": []
    },
    {
      "cell_type": "code",
      "source": [
        "amazon_df.groupby('Fulfilment')['Sales Channel '].unique()"
      ],
      "metadata": {
        "execution": {
          "iopub.status.busy": "2024-04-17T05:12:20.798716Z",
          "iopub.execute_input": "2024-04-17T05:12:20.799101Z",
          "iopub.status.idle": "2024-04-17T05:12:20.838465Z",
          "shell.execute_reply.started": "2024-04-17T05:12:20.799067Z",
          "shell.execute_reply": "2024-04-17T05:12:20.837337Z"
        },
        "trusted": true,
        "id": "l9RilQADuf5X"
      },
      "execution_count": null,
      "outputs": []
    },
    {
      "cell_type": "code",
      "source": [
        "null_checker()"
      ],
      "metadata": {
        "execution": {
          "iopub.status.busy": "2024-04-17T05:12:20.839941Z",
          "iopub.execute_input": "2024-04-17T05:12:20.840778Z",
          "iopub.status.idle": "2024-04-17T05:12:21.282464Z",
          "shell.execute_reply.started": "2024-04-17T05:12:20.840731Z",
          "shell.execute_reply": "2024-04-17T05:12:21.281095Z"
        },
        "trusted": true,
        "id": "DG4Q7DYvuf5X"
      },
      "execution_count": null,
      "outputs": []
    },
    {
      "cell_type": "code",
      "source": [
        "amazon_df.columns"
      ],
      "metadata": {
        "execution": {
          "iopub.status.busy": "2024-04-17T05:12:21.283942Z",
          "iopub.execute_input": "2024-04-17T05:12:21.284937Z",
          "iopub.status.idle": "2024-04-17T05:12:21.29194Z",
          "shell.execute_reply.started": "2024-04-17T05:12:21.284891Z",
          "shell.execute_reply": "2024-04-17T05:12:21.290809Z"
        },
        "trusted": true,
        "id": "0AkibCWQuf5X"
      },
      "execution_count": null,
      "outputs": []
    },
    {
      "cell_type": "code",
      "source": [
        "amazon_df['Combined'] = amazon_df['Order ID'].astype(str) + '-' + amazon_df['SKU'].astype(str)"
      ],
      "metadata": {
        "execution": {
          "iopub.status.busy": "2024-04-17T05:12:21.293427Z",
          "iopub.execute_input": "2024-04-17T05:12:21.294109Z",
          "iopub.status.idle": "2024-04-17T05:12:21.353891Z",
          "shell.execute_reply.started": "2024-04-17T05:12:21.294072Z",
          "shell.execute_reply": "2024-04-17T05:12:21.35277Z"
        },
        "trusted": true,
        "id": "MMC9JCd5uf5X"
      },
      "execution_count": null,
      "outputs": []
    },
    {
      "cell_type": "code",
      "source": [
        "courier_nulls_df = amazon_df.loc[amazon_df['Courier Status'].isnull(), :].groupby(['Order ID', 'SKU'])['Courier Status'].unique().reset_index()\n",
        "courier_nulls_df"
      ],
      "metadata": {
        "execution": {
          "iopub.status.busy": "2024-04-17T05:12:21.355541Z",
          "iopub.execute_input": "2024-04-17T05:12:21.356002Z",
          "iopub.status.idle": "2024-04-17T05:12:21.834637Z",
          "shell.execute_reply.started": "2024-04-17T05:12:21.355963Z",
          "shell.execute_reply": "2024-04-17T05:12:21.833371Z"
        },
        "trusted": true,
        "id": "7ZeRmdscuf5X"
      },
      "execution_count": null,
      "outputs": []
    },
    {
      "cell_type": "code",
      "source": [
        "amazon_df.loc[(~amazon_df['Courier Status'].isnull()) & (amazon_df['Order ID'].isin(courier_nulls_df['Order ID'].unique())), :]\n",
        "\n",
        "#"
      ],
      "metadata": {
        "execution": {
          "iopub.status.busy": "2024-04-17T05:12:21.835883Z",
          "iopub.execute_input": "2024-04-17T05:12:21.836165Z",
          "iopub.status.idle": "2024-04-17T05:12:21.901893Z",
          "shell.execute_reply.started": "2024-04-17T05:12:21.83614Z",
          "shell.execute_reply": "2024-04-17T05:12:21.900706Z"
        },
        "trusted": true,
        "id": "8C6i5qBtuf5X"
      },
      "execution_count": null,
      "outputs": []
    },
    {
      "cell_type": "code",
      "source": [
        "# lets assume Status of the order to reflect the most common Courier Status across it to fill up the null values\n",
        "status_courier_stat_dict = amazon_df.groupby('Status')['Courier Status'].apply(lambda x: x.mode()[0] if not x.empty else None).to_dict()\n",
        "\n",
        "# for status in status_courier_stat_dict:"
      ],
      "metadata": {
        "execution": {
          "iopub.status.busy": "2024-04-17T05:12:21.904824Z",
          "iopub.execute_input": "2024-04-17T05:12:21.905269Z",
          "iopub.status.idle": "2024-04-17T05:12:21.951062Z",
          "shell.execute_reply.started": "2024-04-17T05:12:21.905228Z",
          "shell.execute_reply": "2024-04-17T05:12:21.949912Z"
        },
        "trusted": true,
        "id": "tuq22AzYuf5X"
      },
      "execution_count": null,
      "outputs": []
    },
    {
      "cell_type": "code",
      "source": [
        "amazon_df.loc[amazon_df['Courier Status'].isnull(),\n",
        "              \"Courier Status\"] = amazon_df.loc[amazon_df['Courier Status'].isnull(), \"Status\"].apply(lambda x: status_courier_stat_dict[x])"
      ],
      "metadata": {
        "execution": {
          "iopub.status.busy": "2024-04-17T05:12:21.95258Z",
          "iopub.execute_input": "2024-04-17T05:12:21.953021Z",
          "iopub.status.idle": "2024-04-17T05:12:21.9943Z",
          "shell.execute_reply.started": "2024-04-17T05:12:21.952982Z",
          "shell.execute_reply": "2024-04-17T05:12:21.993178Z"
        },
        "trusted": true,
        "id": "BlLXMejEuf5Y"
      },
      "execution_count": null,
      "outputs": []
    },
    {
      "cell_type": "code",
      "source": [
        "null_checker()"
      ],
      "metadata": {
        "execution": {
          "iopub.status.busy": "2024-04-17T05:12:21.995751Z",
          "iopub.execute_input": "2024-04-17T05:12:21.996143Z",
          "iopub.status.idle": "2024-04-17T05:12:22.472712Z",
          "shell.execute_reply.started": "2024-04-17T05:12:21.99611Z",
          "shell.execute_reply": "2024-04-17T05:12:22.471498Z"
        },
        "trusted": true,
        "id": "wLoeB75ouf5Y"
      },
      "execution_count": null,
      "outputs": []
    },
    {
      "cell_type": "code",
      "source": [
        "ship_postal_code_nulls_df = amazon_df.loc[amazon_df['ship-postal-code'].isnull(), :].groupby(['Combined'])['ship-postal-code'].unique().reset_index()\n",
        "ship_postal_code_nulls_df"
      ],
      "metadata": {
        "execution": {
          "iopub.status.busy": "2024-04-17T05:12:22.474081Z",
          "iopub.execute_input": "2024-04-17T05:12:22.47437Z",
          "iopub.status.idle": "2024-04-17T05:12:22.508607Z",
          "shell.execute_reply.started": "2024-04-17T05:12:22.474345Z",
          "shell.execute_reply": "2024-04-17T05:12:22.506632Z"
        },
        "trusted": true,
        "id": "aBmCd8fbuf5Y"
      },
      "execution_count": null,
      "outputs": []
    },
    {
      "cell_type": "code",
      "source": [
        "amazon_df.loc[(~amazon_df['ship-postal-code'].isnull()) & (amazon_df['Combined'].isin(ship_postal_code_nulls_df['Combined'].unique())), :]\n",
        "\n",
        "# Hence, there is no way to identify ship-postal-code/ship-city/ship-state. Hence, its safe to drop the rows with nulls in these columns. Anyway, the valume of nulls is very few so it shouldn't affect the analysis too much.\n",
        "\n"
      ],
      "metadata": {
        "execution": {
          "iopub.status.busy": "2024-04-17T05:12:22.510215Z",
          "iopub.execute_input": "2024-04-17T05:12:22.510705Z",
          "iopub.status.idle": "2024-04-17T05:12:22.544373Z",
          "shell.execute_reply.started": "2024-04-17T05:12:22.510664Z",
          "shell.execute_reply": "2024-04-17T05:12:22.543172Z"
        },
        "trusted": true,
        "id": "gp2JYdKNuf5Y"
      },
      "execution_count": null,
      "outputs": []
    },
    {
      "cell_type": "code",
      "source": [
        "amazon_df.drop(index=amazon_df.loc[(amazon_df['ship-postal-code'].isnull()), :].index, inplace=True)"
      ],
      "metadata": {
        "execution": {
          "iopub.status.busy": "2024-04-17T05:12:22.546347Z",
          "iopub.execute_input": "2024-04-17T05:12:22.546772Z",
          "iopub.status.idle": "2024-04-17T05:12:22.599025Z",
          "shell.execute_reply.started": "2024-04-17T05:12:22.546735Z",
          "shell.execute_reply": "2024-04-17T05:12:22.597859Z"
        },
        "trusted": true,
        "id": "GpxOYJKEuf5Y"
      },
      "execution_count": null,
      "outputs": []
    },
    {
      "cell_type": "code",
      "source": [
        "null_checker()"
      ],
      "metadata": {
        "execution": {
          "iopub.status.busy": "2024-04-17T05:12:22.600703Z",
          "iopub.execute_input": "2024-04-17T05:12:22.60118Z",
          "iopub.status.idle": "2024-04-17T05:12:23.091714Z",
          "shell.execute_reply.started": "2024-04-17T05:12:22.601142Z",
          "shell.execute_reply": "2024-04-17T05:12:23.090587Z"
        },
        "trusted": true,
        "id": "aA-3naAOuf5Z"
      },
      "execution_count": null,
      "outputs": []
    },
    {
      "cell_type": "code",
      "source": [
        "amazon_df['promotion-ids'].nunique()"
      ],
      "metadata": {
        "execution": {
          "iopub.status.busy": "2024-04-17T05:12:23.09308Z",
          "iopub.execute_input": "2024-04-17T05:12:23.093394Z",
          "iopub.status.idle": "2024-04-17T05:12:23.111688Z",
          "shell.execute_reply.started": "2024-04-17T05:12:23.093367Z",
          "shell.execute_reply": "2024-04-17T05:12:23.110738Z"
        },
        "trusted": true,
        "id": "heRvEv1nuf5Z"
      },
      "execution_count": null,
      "outputs": []
    },
    {
      "cell_type": "code",
      "source": [
        "amazon_df['Combined'].nunique()"
      ],
      "metadata": {
        "execution": {
          "iopub.status.busy": "2024-04-17T05:12:23.113296Z",
          "iopub.execute_input": "2024-04-17T05:12:23.11388Z",
          "iopub.status.idle": "2024-04-17T05:12:23.18332Z",
          "shell.execute_reply.started": "2024-04-17T05:12:23.113849Z",
          "shell.execute_reply": "2024-04-17T05:12:23.182189Z"
        },
        "trusted": true,
        "id": "4Ij6AG_1uf5Z"
      },
      "execution_count": null,
      "outputs": []
    },
    {
      "cell_type": "code",
      "source": [
        "amazon_df['promotion-ids'][0] is np.nan"
      ],
      "metadata": {
        "execution": {
          "iopub.status.busy": "2024-04-17T05:12:23.184881Z",
          "iopub.execute_input": "2024-04-17T05:12:23.1856Z",
          "iopub.status.idle": "2024-04-17T05:12:23.196084Z",
          "shell.execute_reply.started": "2024-04-17T05:12:23.18556Z",
          "shell.execute_reply": "2024-04-17T05:12:23.194931Z"
        },
        "trusted": true,
        "id": "ZjrZfmY9uf5Z"
      },
      "execution_count": null,
      "outputs": []
    },
    {
      "cell_type": "code",
      "source": [
        "def condition_checker(x):\n",
        "    if x is np.nan:\n",
        "        return x\n",
        "    else:\n",
        "        return x.split(\",\")"
      ],
      "metadata": {
        "execution": {
          "iopub.status.busy": "2024-04-17T05:12:23.197993Z",
          "iopub.execute_input": "2024-04-17T05:12:23.199006Z",
          "iopub.status.idle": "2024-04-17T05:12:23.204348Z",
          "shell.execute_reply.started": "2024-04-17T05:12:23.198966Z",
          "shell.execute_reply": "2024-04-17T05:12:23.203517Z"
        },
        "trusted": true,
        "id": "g-QCQa12uf5Z"
      },
      "execution_count": null,
      "outputs": []
    },
    {
      "cell_type": "code",
      "source": [
        "amazon_df['promotion-id_'] = amazon_df['promotion-ids'].apply(lambda x: condition_checker(x=x))"
      ],
      "metadata": {
        "execution": {
          "iopub.status.busy": "2024-04-17T05:12:23.205777Z",
          "iopub.execute_input": "2024-04-17T05:12:23.206078Z",
          "iopub.status.idle": "2024-04-17T05:12:23.579341Z",
          "shell.execute_reply.started": "2024-04-17T05:12:23.206052Z",
          "shell.execute_reply": "2024-04-17T05:12:23.578215Z"
        },
        "trusted": true,
        "id": "hNCKTpUJuf5a"
      },
      "execution_count": null,
      "outputs": []
    },
    {
      "cell_type": "code",
      "source": [
        "amazon_df['promotion-id_'].explode().nunique()"
      ],
      "metadata": {
        "execution": {
          "iopub.status.busy": "2024-04-17T05:12:23.580764Z",
          "iopub.execute_input": "2024-04-17T05:12:23.581055Z",
          "iopub.status.idle": "2024-04-17T05:12:23.755082Z",
          "shell.execute_reply.started": "2024-04-17T05:12:23.581032Z",
          "shell.execute_reply": "2024-04-17T05:12:23.753997Z"
        },
        "trusted": true,
        "id": "T8hGQWrEuf5a"
      },
      "execution_count": null,
      "outputs": []
    },
    {
      "cell_type": "code",
      "source": [
        "values = {'promotion-ids': \"No Promotion\"}\n",
        "amazon_df.fillna(values,inplace=True)\n",
        "\n",
        "# Assume some Other class here"
      ],
      "metadata": {
        "execution": {
          "iopub.status.busy": "2024-04-17T05:12:23.756373Z",
          "iopub.execute_input": "2024-04-17T05:12:23.756763Z",
          "iopub.status.idle": "2024-04-17T05:12:23.782349Z",
          "shell.execute_reply.started": "2024-04-17T05:12:23.756734Z",
          "shell.execute_reply": "2024-04-17T05:12:23.78096Z"
        },
        "trusted": true,
        "id": "angeXNbkuf5a"
      },
      "execution_count": null,
      "outputs": []
    },
    {
      "cell_type": "code",
      "source": [
        "amazon_df['_is_promotion_free_financing'] = amazon_df['promotion-ids'].str.contains('Amazon PLCC Free-Financing Universal Merchant').astype(int)\n",
        "amazon_df['_is_core_free_ship'] = amazon_df['promotion-ids'].str.contains('Core Free Shipping').astype(int)\n",
        "amazon_df['_is_promotion_coupon'] = amazon_df['promotion-ids'].str.contains('Coupon').astype(int)"
      ],
      "metadata": {
        "execution": {
          "iopub.status.busy": "2024-04-17T05:12:23.78388Z",
          "iopub.execute_input": "2024-04-17T05:12:23.784214Z",
          "iopub.status.idle": "2024-04-17T05:12:24.049199Z",
          "shell.execute_reply.started": "2024-04-17T05:12:23.784185Z",
          "shell.execute_reply": "2024-04-17T05:12:24.047884Z"
        },
        "trusted": true,
        "id": "TvR5ocW7uf5a"
      },
      "execution_count": null,
      "outputs": []
    },
    {
      "cell_type": "code",
      "source": [
        "amazon_df['_is_promotion_free_fin_coup_core_free_ship'] = amazon_df['_is_promotion_free_financing'] + amazon_df['_is_promotion_coupon'] + amazon_df['_is_core_free_ship']"
      ],
      "metadata": {
        "execution": {
          "iopub.status.busy": "2024-04-17T05:12:24.050604Z",
          "iopub.execute_input": "2024-04-17T05:12:24.050921Z",
          "iopub.status.idle": "2024-04-17T05:12:24.058136Z",
          "shell.execute_reply.started": "2024-04-17T05:12:24.050896Z",
          "shell.execute_reply": "2024-04-17T05:12:24.056851Z"
        },
        "trusted": true,
        "id": "QzHe88-puf5a"
      },
      "execution_count": null,
      "outputs": []
    },
    {
      "cell_type": "code",
      "source": [
        "amazon_df = amazon_df.reset_index(drop=True).drop(columns=['promotion-id_', 'promotion-ids'])"
      ],
      "metadata": {
        "execution": {
          "iopub.status.busy": "2024-04-17T05:12:24.059657Z",
          "iopub.execute_input": "2024-04-17T05:12:24.060007Z",
          "iopub.status.idle": "2024-04-17T05:12:24.254424Z",
          "shell.execute_reply.started": "2024-04-17T05:12:24.059982Z",
          "shell.execute_reply": "2024-04-17T05:12:24.253188Z"
        },
        "trusted": true,
        "id": "mnrjz0KCuf5a"
      },
      "execution_count": null,
      "outputs": []
    },
    {
      "cell_type": "code",
      "source": [
        "null_checker()"
      ],
      "metadata": {
        "execution": {
          "iopub.status.busy": "2024-04-17T05:12:24.255804Z",
          "iopub.execute_input": "2024-04-17T05:12:24.256111Z",
          "iopub.status.idle": "2024-04-17T05:12:24.717949Z",
          "shell.execute_reply.started": "2024-04-17T05:12:24.256084Z",
          "shell.execute_reply": "2024-04-17T05:12:24.716783Z"
        },
        "trusted": true,
        "id": "R1v3jhPnuf5a"
      },
      "execution_count": null,
      "outputs": []
    },
    {
      "cell_type": "markdown",
      "source": [
        "### Analyzing Discrepancies"
      ],
      "metadata": {
        "id": "Gy92BSekuf5b"
      }
    },
    {
      "cell_type": "code",
      "source": [
        "amazon_df.loc[(amazon_df['Qty']==0)\n",
        "              & (~amazon_df['Status'].isin(['Cancelled', 'Pending', 'Shipped - Returned to Seller'])\n",
        "                 & (~amazon_df['Courier Status'].isin(['Cancelled']))) , :]\n",
        "\n",
        "# Understanding the discrepancies w.r.t Qty variable. These orders have different problems:\n",
        "# The crux of all is that Qty == 0 are not relevant for forecastinf exercise. Hence removing all rows with Qty ==0."
      ],
      "metadata": {
        "execution": {
          "iopub.status.busy": "2024-04-17T05:12:24.719565Z",
          "iopub.execute_input": "2024-04-17T05:12:24.720689Z",
          "iopub.status.idle": "2024-04-17T05:12:24.768245Z",
          "shell.execute_reply.started": "2024-04-17T05:12:24.720641Z",
          "shell.execute_reply": "2024-04-17T05:12:24.767132Z"
        },
        "trusted": true,
        "id": "jPa2OnJvuf5b"
      },
      "execution_count": null,
      "outputs": []
    },
    {
      "cell_type": "code",
      "source": [
        "amazon_df.loc[amazon_df['Amount']==0]\n",
        "# These must be replacements, even though Quantity of product is shipped, there is no revenue from it. Hence removing these as well."
      ],
      "metadata": {
        "execution": {
          "iopub.status.busy": "2024-04-17T05:12:24.769705Z",
          "iopub.execute_input": "2024-04-17T05:12:24.770122Z",
          "iopub.status.idle": "2024-04-17T05:12:24.814732Z",
          "shell.execute_reply.started": "2024-04-17T05:12:24.770093Z",
          "shell.execute_reply": "2024-04-17T05:12:24.813528Z"
        },
        "trusted": true,
        "id": "2R9PB2zuuf5b"
      },
      "execution_count": null,
      "outputs": []
    },
    {
      "cell_type": "code",
      "source": [
        "amazon_df.loc[(amazon_df['Qty']==0) | (amazon_df['Amount']==0)].index"
      ],
      "metadata": {
        "execution": {
          "iopub.status.busy": "2024-04-17T05:12:24.816063Z",
          "iopub.execute_input": "2024-04-17T05:12:24.816373Z",
          "iopub.status.idle": "2024-04-17T05:12:24.836388Z",
          "shell.execute_reply.started": "2024-04-17T05:12:24.816347Z",
          "shell.execute_reply": "2024-04-17T05:12:24.835308Z"
        },
        "trusted": true,
        "id": "Tmj01Oq9uf5b"
      },
      "execution_count": null,
      "outputs": []
    },
    {
      "cell_type": "code",
      "source": [
        "amazon_df.shape[0]"
      ],
      "metadata": {
        "execution": {
          "iopub.status.busy": "2024-04-17T05:12:24.837582Z",
          "iopub.execute_input": "2024-04-17T05:12:24.837969Z",
          "iopub.status.idle": "2024-04-17T05:12:24.847734Z",
          "shell.execute_reply.started": "2024-04-17T05:12:24.837939Z",
          "shell.execute_reply": "2024-04-17T05:12:24.846189Z"
        },
        "trusted": true,
        "id": "4kCzENsnuf5b"
      },
      "execution_count": null,
      "outputs": []
    },
    {
      "cell_type": "code",
      "source": [
        "amazon_df.drop(index=amazon_df.loc[(amazon_df['Qty']==0) | (amazon_df['Amount']==0)].index, inplace=True)\n",
        "\n",
        "amazon_df.reset_index(drop=True, inplace=True)\n",
        "amazon_df.drop(columns=['ship-city', 'ship-state', 'ship-postal-code'], inplace=True)"
      ],
      "metadata": {
        "execution": {
          "iopub.status.busy": "2024-04-17T05:12:24.849405Z",
          "iopub.execute_input": "2024-04-17T05:12:24.849938Z",
          "iopub.status.idle": "2024-04-17T05:12:24.933688Z",
          "shell.execute_reply.started": "2024-04-17T05:12:24.849906Z",
          "shell.execute_reply": "2024-04-17T05:12:24.93238Z"
        },
        "trusted": true,
        "id": "OZYDLaiYuf5c"
      },
      "execution_count": null,
      "outputs": []
    },
    {
      "cell_type": "code",
      "source": [
        "amazon_df.info()"
      ],
      "metadata": {
        "execution": {
          "iopub.status.busy": "2024-04-17T05:12:24.935029Z",
          "iopub.execute_input": "2024-04-17T05:12:24.935294Z",
          "iopub.status.idle": "2024-04-17T05:12:25.119921Z",
          "shell.execute_reply.started": "2024-04-17T05:12:24.935271Z",
          "shell.execute_reply": "2024-04-17T05:12:25.118668Z"
        },
        "trusted": true,
        "id": "JddFZHnLuf5c"
      },
      "execution_count": null,
      "outputs": []
    },
    {
      "cell_type": "markdown",
      "source": [
        "### Feature Engineering\n"
      ],
      "metadata": {
        "id": "E5J-ehm9uf5c"
      }
    },
    {
      "cell_type": "code",
      "source": [
        "\n",
        "\n",
        "# Extracting date features\n",
        "\n",
        "amazon_df['month'] = amazon_df['Date'].dt.month\n",
        "# amazon_df['day'] = amazon_df['Date'].dt.day\n",
        "amazon_df['day_of_week'] = amazon_df['Date'].dt.dayofweek  # Monday=0, Sunday=6\n",
        "# amazon_df['day_of_year'] = amazon_df['Date'].dt.dayofyear\n",
        "# amazon_df['week_of_year'] = amazon_df['Date'].dt.isocalendar().week\n",
        "amazon_df['quarter'] = amazon_df['Date'].dt.quarter\n",
        "\n",
        "# Additional features\n",
        "amazon_df['is_weekend'] = amazon_df['Date'].dt.dayofweek // 5  # 1 if weekend, 0 if weekday"
      ],
      "metadata": {
        "execution": {
          "iopub.status.busy": "2024-04-17T05:12:25.121274Z",
          "iopub.execute_input": "2024-04-17T05:12:25.121652Z",
          "iopub.status.idle": "2024-04-17T05:12:25.143723Z",
          "shell.execute_reply.started": "2024-04-17T05:12:25.121569Z",
          "shell.execute_reply": "2024-04-17T05:12:25.142758Z"
        },
        "trusted": true,
        "id": "HA6aBr0luf5c"
      },
      "execution_count": null,
      "outputs": []
    },
    {
      "cell_type": "code",
      "source": [
        "amazon_df.nunique().sort_values().to_frame(name='Count of unique values')"
      ],
      "metadata": {
        "execution": {
          "iopub.status.busy": "2024-04-17T05:12:25.144973Z",
          "iopub.execute_input": "2024-04-17T05:12:25.145253Z",
          "iopub.status.idle": "2024-04-17T05:12:25.35757Z",
          "shell.execute_reply.started": "2024-04-17T05:12:25.14523Z",
          "shell.execute_reply": "2024-04-17T05:12:25.356451Z"
        },
        "trusted": true,
        "id": "MTanSX1tuf5c"
      },
      "execution_count": null,
      "outputs": []
    },
    {
      "cell_type": "code",
      "source": [
        "amazon_df.drop(columns=['Sales Channel ', 'Combined'],inplace=True)"
      ],
      "metadata": {
        "execution": {
          "iopub.status.busy": "2024-04-17T05:12:25.359185Z",
          "iopub.execute_input": "2024-04-17T05:12:25.359587Z",
          "iopub.status.idle": "2024-04-17T05:12:25.395996Z",
          "shell.execute_reply.started": "2024-04-17T05:12:25.359552Z",
          "shell.execute_reply": "2024-04-17T05:12:25.394961Z"
        },
        "trusted": true,
        "id": "u92iqKl7uf5c"
      },
      "execution_count": null,
      "outputs": []
    },
    {
      "cell_type": "code",
      "source": [
        "amazon_df['amt_per_item'] = amazon_df['Amount']/amazon_df['Qty']"
      ],
      "metadata": {
        "execution": {
          "iopub.status.busy": "2024-04-17T05:12:25.3972Z",
          "iopub.execute_input": "2024-04-17T05:12:25.397477Z",
          "iopub.status.idle": "2024-04-17T05:12:25.403318Z",
          "shell.execute_reply.started": "2024-04-17T05:12:25.397452Z",
          "shell.execute_reply": "2024-04-17T05:12:25.402598Z"
        },
        "trusted": true,
        "id": "SVGRdLvuuf5c"
      },
      "execution_count": null,
      "outputs": []
    },
    {
      "cell_type": "code",
      "source": [
        "amazon_df.columns"
      ],
      "metadata": {
        "execution": {
          "iopub.status.busy": "2024-04-17T05:18:11.719836Z",
          "iopub.execute_input": "2024-04-17T05:18:11.721051Z",
          "iopub.status.idle": "2024-04-17T05:18:11.729365Z",
          "shell.execute_reply.started": "2024-04-17T05:18:11.721012Z",
          "shell.execute_reply": "2024-04-17T05:18:11.728036Z"
        },
        "trusted": true,
        "id": "49Gc80Anuf5d"
      },
      "execution_count": null,
      "outputs": []
    },
    {
      "cell_type": "code",
      "source": [
        "amazon_df"
      ],
      "metadata": {
        "execution": {
          "iopub.status.busy": "2024-04-17T05:12:25.404154Z",
          "iopub.execute_input": "2024-04-17T05:12:25.404396Z",
          "iopub.status.idle": "2024-04-17T05:12:25.440979Z",
          "shell.execute_reply.started": "2024-04-17T05:12:25.404375Z",
          "shell.execute_reply": "2024-04-17T05:12:25.44007Z"
        },
        "trusted": true,
        "id": "qclA-nEZuf5d"
      },
      "execution_count": null,
      "outputs": []
    },
    {
      "cell_type": "code",
      "source": [
        "for i in ['_is_promotion_free_financing',\n",
        "       '_is_core_free_ship', '_is_promotion_coupon', 'is_weekend', 'B2B', '_is_promotion_free_fin_coup_core_free_ship']:\n",
        "    amazon_df[i] = amazon_df[i].astype('category')"
      ],
      "metadata": {
        "execution": {
          "iopub.status.busy": "2024-04-17T05:52:05.329896Z",
          "iopub.execute_input": "2024-04-17T05:52:05.330292Z",
          "iopub.status.idle": "2024-04-17T05:52:05.341072Z",
          "shell.execute_reply.started": "2024-04-17T05:52:05.330256Z",
          "shell.execute_reply": "2024-04-17T05:52:05.339922Z"
        },
        "trusted": true,
        "id": "gf3q7wJkuf5d"
      },
      "execution_count": null,
      "outputs": []
    },
    {
      "cell_type": "code",
      "source": [
        "target_col = 'Amount'\n",
        "cat_cols = amazon_df.select_dtypes(include=['object', 'category']).columns\n",
        "num_cols = amazon_df.drop(columns=[target_col]).select_dtypes(include=['int', \"float\"]).columns\n",
        "\n",
        "\n",
        "\n",
        "print(cat_cols)\n",
        "print(num_cols)"
      ],
      "metadata": {
        "execution": {
          "iopub.status.busy": "2024-04-17T05:54:50.34473Z",
          "iopub.execute_input": "2024-04-17T05:54:50.345955Z",
          "iopub.status.idle": "2024-04-17T05:54:50.395229Z",
          "shell.execute_reply.started": "2024-04-17T05:54:50.345919Z",
          "shell.execute_reply": "2024-04-17T05:54:50.393872Z"
        },
        "trusted": true,
        "id": "Pb13cdPNuf5d"
      },
      "execution_count": null,
      "outputs": []
    },
    {
      "cell_type": "markdown",
      "source": [
        "### Univariate Analysis\n"
      ],
      "metadata": {
        "id": "iznDqFHFuf5d"
      }
    },
    {
      "cell_type": "code",
      "source": [
        "import warnings\n",
        "\n",
        "warnings.filterwarnings('ignore')"
      ],
      "metadata": {
        "execution": {
          "iopub.status.busy": "2024-04-17T05:52:07.377705Z",
          "iopub.execute_input": "2024-04-17T05:52:07.378127Z",
          "iopub.status.idle": "2024-04-17T05:52:07.384035Z",
          "shell.execute_reply.started": "2024-04-17T05:52:07.378098Z",
          "shell.execute_reply": "2024-04-17T05:52:07.382578Z"
        },
        "trusted": true,
        "id": "i4LJtHFauf5e"
      },
      "execution_count": null,
      "outputs": []
    },
    {
      "cell_type": "code",
      "source": [
        "data = amazon_df\n",
        "for num_col in num_cols:\n",
        "    stat, p_value = stats.shapiro(data[num_col])\n",
        "    if p_value > alpha:\n",
        "        print(f'{num_col} looks Gaussian (fail to reject H0)')\n",
        "    else:\n",
        "        print(f'{num_col} doesnt looks Gaussian')\n",
        "    sns.distplot(data[num_col])\n",
        "    plt.show()\n",
        "# Hence, neither of the distributions are Gaussian at 95% ci."
      ],
      "metadata": {
        "execution": {
          "iopub.status.busy": "2024-04-17T05:54:57.30998Z",
          "iopub.execute_input": "2024-04-17T05:54:57.310412Z",
          "iopub.status.idle": "2024-04-17T05:55:01.500946Z",
          "shell.execute_reply.started": "2024-04-17T05:54:57.31038Z",
          "shell.execute_reply": "2024-04-17T05:55:01.499671Z"
        },
        "trusted": true,
        "id": "SpGEr5Xouf5e"
      },
      "execution_count": null,
      "outputs": []
    },
    {
      "cell_type": "markdown",
      "source": [
        "### Bivariate Analysis"
      ],
      "metadata": {
        "id": "uZaz3KA4uf5e"
      }
    },
    {
      "cell_type": "code",
      "source": [
        "relavant_variables = []\n",
        "for num_col in num_cols:\n",
        "    stat, p_value = stats.pearsonr(data[num_col],data[target_col])\n",
        "    if p_value > alpha:\n",
        "        print(f'{num_col} means both the samples are independent (fail to reject H0)')\n",
        "    else:\n",
        "        print(f'{num_col} means there is a dependency between the samples with p_value:{p_value} (reject the H0)')\n",
        "        relavant_variables.append(num_col)\n",
        "        sns.scatterplot(data=data, x=target_col, y=num_col)\n",
        "        plt.show()"
      ],
      "metadata": {
        "execution": {
          "iopub.status.busy": "2024-04-17T06:00:13.703084Z",
          "iopub.execute_input": "2024-04-17T06:00:13.703807Z",
          "iopub.status.idle": "2024-04-17T06:00:15.993008Z",
          "shell.execute_reply.started": "2024-04-17T06:00:13.703773Z",
          "shell.execute_reply": "2024-04-17T06:00:15.991728Z"
        },
        "trusted": true,
        "id": "OedQaUL6uf5e"
      },
      "execution_count": null,
      "outputs": []
    },
    {
      "cell_type": "code",
      "source": [],
      "metadata": {
        "id": "QwXpPrcUuf5e"
      },
      "execution_count": null,
      "outputs": []
    }
  ]
}